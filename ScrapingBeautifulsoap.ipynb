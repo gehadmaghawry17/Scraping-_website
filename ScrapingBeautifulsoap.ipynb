{
  "nbformat": 4,
  "nbformat_minor": 0,
  "metadata": {
    "colab": {
      "provenance": [],
      "authorship_tag": "ABX9TyPvWTeC9on4piuvWzPe3FDD",
      "include_colab_link": true
    },
    "kernelspec": {
      "name": "python3",
      "display_name": "Python 3"
    },
    "language_info": {
      "name": "python"
    }
  },
  "cells": [
    {
      "cell_type": "markdown",
      "metadata": {
        "id": "view-in-github",
        "colab_type": "text"
      },
      "source": [
        "<a href=\"https://colab.research.google.com/github/gehadmaghawry17/Scraping-_website/blob/main/ScrapingBeautifulsoap.ipynb\" target=\"_parent\"><img src=\"https://colab.research.google.com/assets/colab-badge.svg\" alt=\"Open In Colab\"/></a>"
      ]
    },
    {
      "cell_type": "code",
      "source": [
        "!pip install googletrans==4.0.0-rc1\n"
      ],
      "metadata": {
        "id": "8cfkx7DLyQ0p"
      },
      "execution_count": null,
      "outputs": []
    },
    {
      "cell_type": "code",
      "execution_count": null,
      "metadata": {
        "id": "p3ycwMVv-vwE"
      },
      "outputs": [],
      "source": [
        "import requests\n",
        "import re\n"
      ]
    },
    {
      "cell_type": "code",
      "source": [
        "from bs4 import BeautifulSoup\n",
        "from googletrans import Translator\n",
        "\n"
      ],
      "metadata": {
        "id": "zMNH7NFZ-VKQ"
      },
      "execution_count": null,
      "outputs": []
    },
    {
      "cell_type": "code",
      "source": [
        "url = \"https://www.classcentral.com/report/free-certificates/\""
      ],
      "metadata": {
        "id": "f8UuLzTk_BDZ"
      },
      "execution_count": null,
      "outputs": []
    },
    {
      "cell_type": "code",
      "source": [
        "headers = {'User-Agent':'Mozilla/5.0 (Windows NT 10.0; Win64; x64) AppleWebKit/537.36 (KHTML, like Gecko) Chrome/110.0.0.0 Safari/537.36 Edg/110.0.1587.50'}"
      ],
      "metadata": {
        "id": "q0VfeDBs8GXh"
      },
      "execution_count": null,
      "outputs": []
    },
    {
      "cell_type": "code",
      "source": [
        "response = requests.get(url, headers=headers)"
      ],
      "metadata": {
        "id": "Op1XedM-8ZMX"
      },
      "execution_count": null,
      "outputs": []
    },
    {
      "cell_type": "code",
      "source": [
        "response = response.content"
      ],
      "metadata": {
        "id": "VmUdEC6_8u9w"
      },
      "execution_count": null,
      "outputs": []
    },
    {
      "cell_type": "code",
      "source": [
        "response"
      ],
      "metadata": {
        "id": "oTitFiv98IcK"
      },
      "execution_count": null,
      "outputs": []
    },
    {
      "cell_type": "code",
      "source": [
        "soup = BeautifulSoup(response,'html.parser')"
      ],
      "metadata": {
        "id": "XFD1lSZt-D2d"
      },
      "execution_count": null,
      "outputs": []
    },
    {
      "cell_type": "code",
      "source": [
        "soup"
      ],
      "metadata": {
        "id": "xlmRHvT58NtJ"
      },
      "execution_count": null,
      "outputs": []
    },
    {
      "cell_type": "code",
      "source": [
        "#test\n",
        "text = soup.get_text()\n",
        "print(text)\n",
        "text_to_translate = re.sub(r'\\W+', ' ', text) #get rid of extra spaces \n",
        "print('---------^^^^^^^^^^^^^^--------')\n",
        "print(text_to_translate)\n",
        "\n",
        "\n"
      ],
      "metadata": {
        "id": "9vKrjeE64TJd"
      },
      "execution_count": null,
      "outputs": []
    },
    {
      "cell_type": "code",
      "source": [
        "print(text_to_translate)"
      ],
      "metadata": {
        "id": "0o7n83fy5uSI"
      },
      "execution_count": null,
      "outputs": []
    },
    {
      "cell_type": "code",
      "source": [
        "soup"
      ],
      "metadata": {
        "id": "9rV5ffJI_X6D"
      },
      "execution_count": null,
      "outputs": []
    },
    {
      "cell_type": "code",
      "source": [
        "links = soup.find_all('a', class_='color-charcoal')\n"
      ],
      "metadata": {
        "id": "b62UMmVWrDwW"
      },
      "execution_count": null,
      "outputs": []
    },
    {
      "cell_type": "code",
      "source": [
        "#good\n",
        "for link in links:\n",
        "    print(link['href'])"
      ],
      "metadata": {
        "id": "vCLsbfK4rKE0"
      },
      "execution_count": null,
      "outputs": []
    },
    {
      "cell_type": "code",
      "source": [
        "#good\n",
        "links = []\n",
        "for link in soup.find_all('a', href=True):\n",
        "    if link['href'].startswith('http'):\n",
        "        links.append(link['href'])\n",
        "\n",
        "print(links)"
      ],
      "metadata": {
        "id": "WciDgw95As75"
      },
      "execution_count": null,
      "outputs": []
    },
    {
      "cell_type": "code",
      "source": [
        "from googletrans import Translator"
      ],
      "metadata": {
        "id": "hiEfvlErKlsr"
      },
      "execution_count": null,
      "outputs": []
    },
    {
      "cell_type": "code",
      "source": [
        "text = soup.get_text()"
      ],
      "metadata": {
        "id": "oh5ncz_5NBJg"
      },
      "execution_count": null,
      "outputs": []
    },
    {
      "cell_type": "code",
      "source": [
        "url = 'https://www.classcentral.com/'\n",
        "\n",
        "r = requests.get(url)\n",
        "soup = BeautifulSoup(r.content, 'html.parser')\n",
        "\n",
        "text = soup.get_text()"
      ],
      "metadata": {
        "id": "2EUm-4VQNPnu"
      },
      "execution_count": null,
      "outputs": []
    },
    {
      "cell_type": "code",
      "source": [
        "translator = Translator()\n",
        "translated_text = translator.translate(text, dest='hi').text\n",
        "\n",
        "print(translated_text)"
      ],
      "metadata": {
        "id": "DCC447OKNIoU"
      },
      "execution_count": null,
      "outputs": []
    }
  ]
}